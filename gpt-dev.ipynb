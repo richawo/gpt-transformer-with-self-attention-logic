{
 "cells": [
  {
   "cell_type": "code",
   "execution_count": 3,
   "id": "3de0db7e-ec27-4d45-8dc6-02d80055994e",
   "metadata": {},
   "outputs": [],
   "source": [
    "%config Completer.use_jedi = False"
   ]
  },
  {
   "cell_type": "markdown",
   "id": "05040f39-a785-49b4-99e9-6c12ad3bf566",
   "metadata": {},
   "source": [
    "## GPT Dev work"
   ]
  },
  {
   "cell_type": "markdown",
   "id": "cfc46f5c-671c-45ec-82b0-ed3fc117b47e",
   "metadata": {},
   "source": [
    "**Import the initial training data (Shakespeare's works)**"
   ]
  },
  {
   "cell_type": "code",
   "execution_count": 4,
   "id": "2eae9a0c-91a1-4eb0-ae8a-b916a5e38cb1",
   "metadata": {},
   "outputs": [
    {
     "name": "stdout",
     "output_type": "stream",
     "text": [
      "--2023-09-12 17:07:28--  https://raw.githubusercontent.com/karpathy/ng-video-lecture/master/input.txt\n",
      "Resolving raw.githubusercontent.com (raw.githubusercontent.com)... 185.199.108.133, 185.199.109.133, 185.199.110.133, ...\n",
      "Connecting to raw.githubusercontent.com (raw.githubusercontent.com)|185.199.108.133|:443... connected.\n",
      "HTTP request sent, awaiting response... 200 OK\n",
      "Length: 1115394 (1.1M) [text/plain]\n",
      "Saving to: ‘input.txt.1’\n",
      "\n",
      "input.txt.1         100%[===================>]   1.06M  6.90MB/s    in 0.2s    \n",
      "\n",
      "2023-09-12 17:07:29 (6.90 MB/s) - ‘input.txt.1’ saved [1115394/1115394]\n",
      "\n"
     ]
    }
   ],
   "source": [
    "!wget https://raw.githubusercontent.com/karpathy/ng-video-lecture/master/input.txt"
   ]
  },
  {
   "cell_type": "code",
   "execution_count": 5,
   "id": "b1ebee33-63fd-45e3-b3e6-db2e6eb4096a",
   "metadata": {},
   "outputs": [],
   "source": [
    "with open(\"input.txt\", 'r', encoding='utf-8') as f:\n",
    "    text = f.read()"
   ]
  },
  {
   "cell_type": "markdown",
   "id": "f7788a29-00b2-4063-977f-b3e24be29a9e",
   "metadata": {},
   "source": [
    "---"
   ]
  },
  {
   "cell_type": "markdown",
   "id": "152cf534-d261-443b-a8ce-3b01ddd2a7bb",
   "metadata": {},
   "source": [
    "**Sense Checks**\n"
   ]
  },
  {
   "cell_type": "code",
   "execution_count": 6,
   "id": "fb926541-bac9-40d3-ba79-6684940ea156",
   "metadata": {},
   "outputs": [
    {
     "name": "stdout",
     "output_type": "stream",
     "text": [
      "Number of lines 1115394\n"
     ]
    }
   ],
   "source": [
    "print(f\"Number of lines {len(text)}\")"
   ]
  },
  {
   "cell_type": "code",
   "execution_count": 7,
   "id": "1c199b4b-ddfe-449e-b2ed-202568bfd38f",
   "metadata": {},
   "outputs": [
    {
     "name": "stdout",
     "output_type": "stream",
     "text": [
      "First Citizen:\n",
      "Before we proceed any further, hear me speak.\n",
      "\n",
      "All:\n",
      "Speak, speak.\n",
      "\n",
      "First Citizen:\n",
      "You are all resolved rather to die than to famish?\n",
      "\n",
      "All:\n",
      "Resolved. resolved.\n",
      "\n",
      "First Citizen:\n",
      "First, you know Caius Marcius is chief enemy to the people.\n",
      "\n"
     ]
    }
   ],
   "source": [
    "print(text[:250])"
   ]
  },
  {
   "cell_type": "code",
   "execution_count": null,
   "id": "ae37955c-ee11-46e6-881d-fd3a833e00e0",
   "metadata": {},
   "outputs": [],
   "source": []
  },
  {
   "cell_type": "markdown",
   "id": "8382ff7f-8459-4208-8c04-0c703ae72a63",
   "metadata": {},
   "source": [
    "**Extract Characters**"
   ]
  },
  {
   "cell_type": "code",
   "execution_count": 8,
   "id": "517e951e-d2dc-49d2-b203-a9d16300d96f",
   "metadata": {},
   "outputs": [
    {
     "name": "stdout",
     "output_type": "stream",
     "text": [
      "\n",
      "   ! $ & ' , - . 3 : ; ? A B C D E F G H I J K L M N O P Q R S T U V W X Y Z a b c d e f g h i j k l m n o p q r s t u v w x y z\n",
      "Unique char count: 65\n"
     ]
    }
   ],
   "source": [
    "chars = sorted(list(set(text)))\n",
    "vocab_size = len(chars)\n",
    "print(' '.join(chars))\n",
    "print(f'Unique char count: {vocab_size}')"
   ]
  },
  {
   "cell_type": "code",
   "execution_count": null,
   "id": "6804441d-6951-46f7-a0de-f3f10e86d688",
   "metadata": {},
   "outputs": [],
   "source": []
  },
  {
   "cell_type": "markdown",
   "id": "5cffa5d1-17fa-4b44-8fc2-bece402b3133",
   "metadata": {},
   "source": [
    "**Create encoding/decoding**"
   ]
  },
  {
   "cell_type": "code",
   "execution_count": 9,
   "id": "a5884a98-47bd-4dca-883e-0de54897e203",
   "metadata": {},
   "outputs": [],
   "source": [
    "stoi = { ch:i for i,ch in enumerate(chars) } #fun fact: stoi = C++ library for converting strings -> integers.\n",
    "itos = { i:ch for i,ch in enumerate(chars) }"
   ]
  },
  {
   "cell_type": "code",
   "execution_count": 10,
   "id": "a0db51eb-ead5-431e-a914-3a57794a7d60",
   "metadata": {},
   "outputs": [
    {
     "name": "stdout",
     "output_type": "stream",
     "text": [
      "{'\\n': 0, ' ': 1, '!': 2, '$': 3, '&': 4, \"'\": 5, ',': 6, '-': 7, '.': 8, '3': 9, ':': 10, ';': 11, '?': 12, 'A': 13, 'B': 14, 'C': 15, 'D': 16, 'E': 17, 'F': 18, 'G': 19, 'H': 20, 'I': 21, 'J': 22, 'K': 23, 'L': 24, 'M': 25, 'N': 26, 'O': 27, 'P': 28, 'Q': 29, 'R': 30, 'S': 31, 'T': 32, 'U': 33, 'V': 34, 'W': 35, 'X': 36, 'Y': 37, 'Z': 38, 'a': 39, 'b': 40, 'c': 41, 'd': 42, 'e': 43, 'f': 44, 'g': 45, 'h': 46, 'i': 47, 'j': 48, 'k': 49, 'l': 50, 'm': 51, 'n': 52, 'o': 53, 'p': 54, 'q': 55, 'r': 56, 's': 57, 't': 58, 'u': 59, 'v': 60, 'w': 61, 'x': 62, 'y': 63, 'z': 64}\n"
     ]
    }
   ],
   "source": [
    "print(stoi) # ch -> i"
   ]
  },
  {
   "cell_type": "code",
   "execution_count": 11,
   "id": "dee960e5-666c-4146-9743-cd8a25511ad6",
   "metadata": {},
   "outputs": [
    {
     "name": "stdout",
     "output_type": "stream",
     "text": [
      "{0: '\\n', 1: ' ', 2: '!', 3: '$', 4: '&', 5: \"'\", 6: ',', 7: '-', 8: '.', 9: '3', 10: ':', 11: ';', 12: '?', 13: 'A', 14: 'B', 15: 'C', 16: 'D', 17: 'E', 18: 'F', 19: 'G', 20: 'H', 21: 'I', 22: 'J', 23: 'K', 24: 'L', 25: 'M', 26: 'N', 27: 'O', 28: 'P', 29: 'Q', 30: 'R', 31: 'S', 32: 'T', 33: 'U', 34: 'V', 35: 'W', 36: 'X', 37: 'Y', 38: 'Z', 39: 'a', 40: 'b', 41: 'c', 42: 'd', 43: 'e', 44: 'f', 45: 'g', 46: 'h', 47: 'i', 48: 'j', 49: 'k', 50: 'l', 51: 'm', 52: 'n', 53: 'o', 54: 'p', 55: 'q', 56: 'r', 57: 's', 58: 't', 59: 'u', 60: 'v', 61: 'w', 62: 'x', 63: 'y', 64: 'z'}\n"
     ]
    }
   ],
   "source": [
    "print(itos) # i -> ch"
   ]
  },
  {
   "cell_type": "code",
   "execution_count": null,
   "id": "4a016d3c-858f-4561-be8d-74ca5207d266",
   "metadata": {},
   "outputs": [],
   "source": []
  },
  {
   "cell_type": "code",
   "execution_count": 12,
   "id": "35731fa5-2ee1-47e1-9e6e-2665d8d53f35",
   "metadata": {},
   "outputs": [],
   "source": [
    "encode = lambda s: [stoi[c] for c in s] # Encodes characters in a string as an array of integers\n",
    "decode = lambda l: ''.join([itos[i] for i in l]) # Decodes integer array back to characters"
   ]
  },
  {
   "cell_type": "code",
   "execution_count": null,
   "id": "d055d8fd-013e-43ec-9d3b-866647f5f489",
   "metadata": {},
   "outputs": [],
   "source": []
  },
  {
   "cell_type": "code",
   "execution_count": 13,
   "id": "8644bb9f-a063-43be-b26b-bc1c65b635d3",
   "metadata": {},
   "outputs": [
    {
     "name": "stdout",
     "output_type": "stream",
     "text": [
      "hello world!\n",
      "[46, 43, 50, 50, 53, 1, 61, 53, 56, 50, 42, 2]\n",
      "hello world!\n"
     ]
    }
   ],
   "source": [
    "print(\"hello world!\")\n",
    "print(encode(\"hello world!\"))\n",
    "print(decode(encode(\"hello world!\")))"
   ]
  },
  {
   "cell_type": "code",
   "execution_count": null,
   "id": "b084cf8d-1cad-48c0-a064-b25fa594f533",
   "metadata": {},
   "outputs": [],
   "source": []
  },
  {
   "cell_type": "markdown",
   "id": "1c76dc9a-296a-4338-a57b-b4219ee39e5e",
   "metadata": {},
   "source": [
    "**Encode & store the entire text**"
   ]
  },
  {
   "cell_type": "code",
   "execution_count": 14,
   "id": "26bb9ea1-bed2-4345-a3b2-430ce106ed06",
   "metadata": {},
   "outputs": [
    {
     "name": "stdout",
     "output_type": "stream",
     "text": [
      "torch.Size([1115394]) torch.int64\n",
      "tensor([18, 47, 56, 57, 58,  1, 15, 47, 58, 47, 64, 43, 52, 10,  0, 14, 43, 44,\n",
      "        53, 56, 43,  1, 61, 43,  1, 54, 56, 53, 41, 43, 43, 42,  1, 39, 52, 63,\n",
      "         1, 44, 59, 56, 58, 46, 43, 56,  6,  1, 46, 43, 39, 56,  1, 51, 43,  1,\n",
      "        57, 54, 43, 39, 49,  8,  0,  0, 13, 50, 50, 10,  0, 31, 54, 43, 39, 49,\n",
      "         6,  1, 57, 54, 43, 39, 49,  8,  0,  0, 18, 47, 56, 57, 58,  1, 15, 47,\n",
      "        58, 47, 64, 43, 52, 10,  0, 37, 53, 59,  1, 39, 56, 43,  1, 39, 50, 50,\n",
      "         1, 56, 43, 57, 53, 50, 60, 43, 42,  1, 56, 39, 58, 46, 43, 56,  1, 58,\n",
      "        53,  1, 42, 47, 43,  1, 58, 46, 39, 52,  1, 58, 53,  1, 44, 39, 51, 47,\n",
      "        57, 46, 12,  0,  0, 13, 50, 50, 10,  0, 30, 43, 57, 53, 50, 60, 43, 42,\n",
      "         8,  1, 56, 43, 57, 53, 50, 60, 43, 42,  8,  0,  0, 18, 47, 56, 57, 58,\n",
      "         1, 15, 47, 58, 47, 64, 43, 52, 10,  0, 18, 47, 56, 57, 58,  6,  1, 63,\n",
      "        53, 59,  1, 49, 52, 53, 61,  1, 15, 39, 47, 59, 57,  1, 25, 39, 56, 41,\n",
      "        47, 59, 57,  1, 47, 57,  1, 41, 46, 47, 43, 44,  1, 43, 52, 43, 51, 63,\n",
      "         1, 58, 53,  1, 58, 46, 43,  1, 54, 43, 53, 54, 50, 43,  8,  0])\n"
     ]
    }
   ],
   "source": [
    "import torch\n",
    "data = torch.tensor(encode(text), dtype=torch.long)\n",
    "print(data.shape, data.dtype)\n",
    "print(data[:250])"
   ]
  },
  {
   "cell_type": "code",
   "execution_count": null,
   "id": "8dbc40a2-e594-435e-98b9-93cd7ccb746c",
   "metadata": {},
   "outputs": [],
   "source": []
  },
  {
   "cell_type": "markdown",
   "id": "0a829a3f-6fec-47f4-b1d0-f7b42d4b7073",
   "metadata": {},
   "source": [
    "**Split out the training and validation data sets**"
   ]
  },
  {
   "cell_type": "code",
   "execution_count": 15,
   "id": "b268e639-c09c-4a74-a66f-33628baf2d0f",
   "metadata": {},
   "outputs": [],
   "source": [
    "n = int(0.9* len(data))\n",
    "train_data = data[:n]\n",
    "val_data = data[n:]"
   ]
  },
  {
   "cell_type": "code",
   "execution_count": null,
   "id": "0b23cf13-fd73-45db-a1c9-7792de1b1bb4",
   "metadata": {},
   "outputs": [],
   "source": []
  },
  {
   "cell_type": "markdown",
   "id": "5797ad2d-a4c4-4417-8c24-2ac6832dd4b2",
   "metadata": {},
   "source": [
    "**Create the transformer inputs and targets**"
   ]
  },
  {
   "cell_type": "code",
   "execution_count": 16,
   "id": "80f1bcd8-4102-4f10-87a4-a1fc7bb4f77d",
   "metadata": {
    "scrolled": true
   },
   "outputs": [
    {
     "data": {
      "text/plain": [
       "tensor([18, 47, 56, 57, 58,  1, 15, 47, 58])"
      ]
     },
     "execution_count": 16,
     "metadata": {},
     "output_type": "execute_result"
    }
   ],
   "source": [
    "block_size = 8\n",
    "train_data[:block_size + 1]"
   ]
  },
  {
   "cell_type": "code",
   "execution_count": 17,
   "id": "c90af1eb-0e75-4fc8-a0d1-4097be5c6bf8",
   "metadata": {},
   "outputs": [
    {
     "name": "stdout",
     "output_type": "stream",
     "text": [
      "0: when the input is tensor([18]) the target: 47\n",
      "1: when the input is tensor([18, 47]) the target: 56\n",
      "2: when the input is tensor([18, 47, 56]) the target: 57\n",
      "3: when the input is tensor([18, 47, 56, 57]) the target: 58\n",
      "4: when the input is tensor([18, 47, 56, 57, 58]) the target: 1\n",
      "5: when the input is tensor([18, 47, 56, 57, 58,  1]) the target: 15\n",
      "6: when the input is tensor([18, 47, 56, 57, 58,  1, 15]) the target: 47\n",
      "7: when the input is tensor([18, 47, 56, 57, 58,  1, 15, 47]) the target: 58\n"
     ]
    }
   ],
   "source": [
    "x = train_data[:block_size]\n",
    "y = train_data[1: block_size+1]\n",
    "for t in range(block_size):\n",
    "    context = x[:t+1]\n",
    "    target= y[t]\n",
    "    print(f\"{t}: when the input is {context} the target: {target}\")"
   ]
  },
  {
   "cell_type": "code",
   "execution_count": 18,
   "id": "bef001c7-b77b-452b-9b62-21e895e6de98",
   "metadata": {
    "scrolled": true
   },
   "outputs": [
    {
     "name": "stdout",
     "output_type": "stream",
     "text": [
      "torch.Size([4, 8])\n",
      "tensor([[24, 43, 58,  5, 57,  1, 46, 43],\n",
      "        [44, 53, 56,  1, 58, 46, 39, 58],\n",
      "        [52, 58,  1, 58, 46, 39, 58,  1],\n",
      "        [25, 17, 27, 10,  0, 21,  1, 54]])\n",
      "torch.Size([4, 8])\n",
      "tensor([[43, 58,  5, 57,  1, 46, 43, 39],\n",
      "        [53, 56,  1, 58, 46, 39, 58,  1],\n",
      "        [58,  1, 58, 46, 39, 58,  1, 46],\n",
      "        [17, 27, 10,  0, 21,  1, 54, 39]])\n",
      "---\n",
      "0,0: when the input is tensor([24]) the target is: 43\n",
      "0,1: when the input is tensor([24, 43]) the target is: 58\n",
      "0,2: when the input is tensor([24, 43, 58]) the target is: 5\n",
      "0,3: when the input is tensor([24, 43, 58,  5]) the target is: 57\n",
      "0,4: when the input is tensor([24, 43, 58,  5, 57]) the target is: 1\n",
      "0,5: when the input is tensor([24, 43, 58,  5, 57,  1]) the target is: 46\n",
      "0,6: when the input is tensor([24, 43, 58,  5, 57,  1, 46]) the target is: 43\n",
      "0,7: when the input is tensor([24, 43, 58,  5, 57,  1, 46, 43]) the target is: 39\n",
      "1,0: when the input is tensor([44]) the target is: 53\n",
      "1,1: when the input is tensor([44, 53]) the target is: 56\n",
      "1,2: when the input is tensor([44, 53, 56]) the target is: 1\n",
      "1,3: when the input is tensor([44, 53, 56,  1]) the target is: 58\n",
      "1,4: when the input is tensor([44, 53, 56,  1, 58]) the target is: 46\n",
      "1,5: when the input is tensor([44, 53, 56,  1, 58, 46]) the target is: 39\n",
      "1,6: when the input is tensor([44, 53, 56,  1, 58, 46, 39]) the target is: 58\n",
      "1,7: when the input is tensor([44, 53, 56,  1, 58, 46, 39, 58]) the target is: 1\n",
      "2,0: when the input is tensor([52]) the target is: 58\n",
      "2,1: when the input is tensor([52, 58]) the target is: 1\n",
      "2,2: when the input is tensor([52, 58,  1]) the target is: 58\n",
      "2,3: when the input is tensor([52, 58,  1, 58]) the target is: 46\n",
      "2,4: when the input is tensor([52, 58,  1, 58, 46]) the target is: 39\n",
      "2,5: when the input is tensor([52, 58,  1, 58, 46, 39]) the target is: 58\n",
      "2,6: when the input is tensor([52, 58,  1, 58, 46, 39, 58]) the target is: 1\n",
      "2,7: when the input is tensor([52, 58,  1, 58, 46, 39, 58,  1]) the target is: 46\n",
      "3,0: when the input is tensor([25]) the target is: 17\n",
      "3,1: when the input is tensor([25, 17]) the target is: 27\n",
      "3,2: when the input is tensor([25, 17, 27]) the target is: 10\n",
      "3,3: when the input is tensor([25, 17, 27, 10]) the target is: 0\n",
      "3,4: when the input is tensor([25, 17, 27, 10,  0]) the target is: 21\n",
      "3,5: when the input is tensor([25, 17, 27, 10,  0, 21]) the target is: 1\n",
      "3,6: when the input is tensor([25, 17, 27, 10,  0, 21,  1]) the target is: 54\n",
      "3,7: when the input is tensor([25, 17, 27, 10,  0, 21,  1, 54]) the target is: 39\n"
     ]
    }
   ],
   "source": [
    "torch.manual_seed(1337)\n",
    "batch_size = 4 # the number of independent sequences to be processed in parallel\n",
    "block_size = 8 # the maximum context length for predictions\n",
    "\n",
    "def get_batch(split):\n",
    "    # Generate a small batch of data of input x and targets y\n",
    "    data = train_data if split == 'train' else val_data\n",
    "    ix = torch.randint(len(data) - block_size, (batch_size,)) # Get batch_size random integers between 0 and the data\n",
    "    x = torch.stack([data[i : i + block_size] for i in ix]) # 4 rows of 8 random encoded character sets\n",
    "    y = torch.stack([data[i + 1: i + block_size + 1] for i in ix]) # the same as the above, offset by one (targets)\n",
    "    return x, y\n",
    "\n",
    "xb, yb = get_batch('train')\n",
    "print(xb.shape)\n",
    "print(xb)\n",
    "print(yb.shape)\n",
    "print(yb)\n",
    "\n",
    "print('---')\n",
    "\n",
    "for b in range(batch_size):\n",
    "    for t in range(block_size):\n",
    "        context = xb[b, :t+1]\n",
    "        target = yb[b, t]\n",
    "        print(f\"{b},{t}: when the input is {context} the target is: {target}\")"
   ]
  },
  {
   "cell_type": "code",
   "execution_count": null,
   "id": "5fdd39e4-2773-4ec4-a515-996bb3b3a183",
   "metadata": {},
   "outputs": [],
   "source": []
  },
  {
   "cell_type": "markdown",
   "id": "c9627478-e727-435b-9c9f-1fa4cda46609",
   "metadata": {},
   "source": [
    "**Feed the inputs into a NN**"
   ]
  },
  {
   "cell_type": "code",
   "execution_count": 19,
   "id": "ad74a074-f70c-4190-bb88-c2fd76cbbb7f",
   "metadata": {},
   "outputs": [
    {
     "name": "stdout",
     "output_type": "stream",
     "text": [
      "torch.Size([32, 65])\n",
      "tensor(4.8786, grad_fn=<NllLossBackward0>)\n",
      "\n",
      "SKIcLT;AcELMoTbvZv C?nq-QE33:CJqkOKH-q;:la!oiywkHjgChzbQ?u!3bLIgwevmyFJGUGp\n",
      "wnYWmnxKWWev-tDqXErVKLgJ\n"
     ]
    }
   ],
   "source": [
    "import torch\n",
    "import torch.nn as nn\n",
    "from torch.nn import functional as F\n",
    "\n",
    "torch.manual_seed(1337)\n",
    "\n",
    "class BigramLanguageModel(nn.Module):\n",
    "    def __init__(self, vocab_size):\n",
    "        super().__init__()\n",
    "        #each token directly reads off the logits for the next token from a lookup table\n",
    "        self.token_embedding_table = nn.Embedding(vocab_size, vocab_size)\n",
    "\n",
    "    def forward(self, idx, targets=None):\n",
    "\n",
    "        # idx and targets are both (B, T) tensor or integers\n",
    "        logits = self.token_embedding_table(idx) # (Batch [4] by Time [8] by Channel [vocab_size] tensor)\n",
    "        loss = None\n",
    "        \n",
    "        if targets is not None:\n",
    "            # Convert dimenions from B, T ,C -->  B, C, T so that we can use F.cross_entropy\n",
    "            B, T, C = logits.shape\n",
    "            logits = logits.view(B*T, C)\n",
    "            targets = targets.view(B*T)\n",
    "            # Negative loglikelihood loss\n",
    "            loss = F.cross_entropy(logits, targets)\n",
    "        \n",
    "        return logits, loss\n",
    "\n",
    "    def generate(self, idx, max_new_tokens):\n",
    "        # idx is (B, T) array of indices in the current context\n",
    "        for _ in range(max_new_tokens):\n",
    "            # get the predictions\n",
    "            logits, loss = self(idx)\n",
    "            # focus only on the last time step\n",
    "            logits = logits[:, -1, :] # becomes (B, C)\n",
    "            # apply softmax to get probabilities\n",
    "            probs = F.softmax(logits, dim=-1) # (B, C)\n",
    "            # sample from the distribution\n",
    "            idx_next = torch.multinomial(probs, num_samples=1) # (B, 1)\n",
    "            # append sampled index to the running sequence\n",
    "            idx = torch.cat((idx, idx_next), dim=1) # (B, T+1)\n",
    "        return idx\n",
    "        \n",
    "\n",
    "                                                         \n",
    "\n",
    "m = BigramLanguageModel(vocab_size)\n",
    "logits, loss = m(xb, yb)\n",
    "print(logits.shape)\n",
    "print(loss)\n",
    "print(decode(m.generate(idx= torch.zeros((1,1), dtype=torch.long), max_new_tokens=100)[0].tolist()))"
   ]
  },
  {
   "cell_type": "code",
   "execution_count": null,
   "id": "fe048675-4855-4c72-879d-9b7bf872541f",
   "metadata": {},
   "outputs": [],
   "source": []
  },
  {
   "cell_type": "markdown",
   "id": "ad22e181-4224-46a1-bd81-36a2fcae753c",
   "metadata": {},
   "source": [
    "**Create and test a basic Optimiser**"
   ]
  },
  {
   "cell_type": "code",
   "execution_count": 20,
   "id": "cfc0eafc-afe2-483d-88f3-76a8b0e21660",
   "metadata": {},
   "outputs": [],
   "source": [
    "optimizer = torch.optim.AdamW(m.parameters(), lr=1e-3)"
   ]
  },
  {
   "cell_type": "code",
   "execution_count": 22,
   "id": "8ca92392-897c-4ed8-8f81-04cf07bf88bb",
   "metadata": {},
   "outputs": [
    {
     "name": "stdout",
     "output_type": "stream",
     "text": [
      "2.491579532623291\n"
     ]
    }
   ],
   "source": [
    "batch_size = 32\n",
    "for steps in range(1000):\n",
    "\n",
    "    # sample a batch of data\n",
    "    xb, yb = get_batch('train')\n",
    "\n",
    "    # evaluate the loss\n",
    "    logits, loss = m(xb, yb)\n",
    "    optimizer.zero_grad(set_to_none=True)\n",
    "    loss.backward()\n",
    "    optimizer.step()\n",
    "\n",
    "print(loss.item())"
   ]
  },
  {
   "cell_type": "code",
   "execution_count": 23,
   "id": "cedfe083-c916-48cf-9303-cb96a7a04b43",
   "metadata": {},
   "outputs": [
    {
     "name": "stdout",
     "output_type": "stream",
     "text": [
      "\n",
      "ORO:\n",
      "ARI m s, baidend RDUMo mbewhith le;\n",
      "Calu oro my oumeff e in be'dithathechoweds rerg s jerphel,\n",
      "\n",
      "I; anthysbears Ifo angithanavinonkead otothe he ERWh chore:\n",
      "NGessuio, b:\n",
      "\n",
      "\n",
      "F fim, lt bo me,\n",
      "\n",
      "t chaye solll wer, man'dis l od Reef ghe y f bowingh's s apalversth foor anithiseerdimare,\n",
      "\n",
      "\n",
      "\n",
      "ARGBu tathittese ft bly, wod. hmurghe t 'd hong gsithoow finche EOMATon'd CHe t wenedinthevedis ankec d g bee'shoungipady, leabuncris?\n",
      "\n",
      "And;\n",
      "INULLUMASowimy ale?\n",
      "Theradad sto.\n",
      "An whal\n",
      "Has\n",
      "ONCowan y RI m ORENTEreot\n",
      "None\n"
     ]
    }
   ],
   "source": [
    "print(print(decode(m.generate(idx= torch.zeros((1,1), dtype=torch.long), max_new_tokens=500)[0].tolist())))"
   ]
  },
  {
   "cell_type": "code",
   "execution_count": null,
   "id": "f8b63351-78ed-4682-838e-9267bea48065",
   "metadata": {},
   "outputs": [],
   "source": []
  },
  {
   "cell_type": "markdown",
   "id": "2a09d139-633a-4621-9513-5de0f5c667d2",
   "metadata": {},
   "source": [
    "**A Mathematical Example of the  Self Attention Trick**"
   ]
  },
  {
   "cell_type": "code",
   "execution_count": 27,
   "id": "62df50c9-b087-40d1-ba82-e2b4c6eb6a1a",
   "metadata": {},
   "outputs": [],
   "source": [
    "# Example\n",
    "\n",
    "torch.manual_seed(1337)\n",
    "B,T,C = 4, 8, 2 #Batch, Time, Channel\n",
    "x = torch.randn(B, T, C)"
   ]
  },
  {
   "cell_type": "code",
   "execution_count": 53,
   "id": "903c0058-8a85-4345-b764-d14616721e6e",
   "metadata": {},
   "outputs": [],
   "source": [
    "# v1 example\n",
    "\n",
    "# we want x[b,t] = mean_{i<=t} x[b, i]\n",
    "\n",
    "xbow = torch.zeros((B,T,C)) # bow => bag of words, a term for averaging up a ton of words\n",
    "for b in range(B):\n",
    "    for t in range(T):\n",
    "        xprev = x[b, :t+1] # (t, C) - because you've dereferenced B, and extracted out t variables\n",
    "        xbow[b,t] = torch.mean(xprev, 0) # average across time leaving a vector of C"
   ]
  },
  {
   "cell_type": "code",
   "execution_count": 54,
   "id": "1814c809-7aec-4d0c-8cfa-4288af170957",
   "metadata": {},
   "outputs": [
    {
     "data": {
      "text/plain": [
       "True"
      ]
     },
     "execution_count": 54,
     "metadata": {},
     "output_type": "execute_result"
    }
   ],
   "source": [
    "# v2 example\n",
    "\n",
    "wei = torch.tril(torch.ones(T, T))\n",
    "wei = wei / wei.sum(1, keepdim=True) # (B, T, T) @ (B, T, C) ----> (B, T, C)\n",
    "xbow2 = wei @ x\n",
    "torch.allclose(xbow, xbow2)"
   ]
  },
  {
   "cell_type": "code",
   "execution_count": 52,
   "id": "afb4813f-1656-4ae9-8d75-f362887f5d2a",
   "metadata": {},
   "outputs": [
    {
     "data": {
      "text/plain": [
       "(tensor([[ 0.1808, -0.0700],\n",
       "         [-0.0894, -0.4926],\n",
       "         [ 0.1490, -0.3199],\n",
       "         [ 0.3504, -0.2238],\n",
       "         [ 0.3525,  0.0545],\n",
       "         [ 0.0688, -0.0396],\n",
       "         [ 0.0927, -0.0682],\n",
       "         [-0.0341,  0.1332]]),\n",
       " tensor([[ 0.1808, -0.0700],\n",
       "         [-0.0894, -0.4926],\n",
       "         [ 0.1490, -0.3199],\n",
       "         [ 0.3504, -0.2238],\n",
       "         [ 0.3525,  0.0545],\n",
       "         [ 0.0688, -0.0396],\n",
       "         [ 0.0927, -0.0682],\n",
       "         [-0.0341,  0.1332]]))"
      ]
     },
     "execution_count": 52,
     "metadata": {},
     "output_type": "execute_result"
    }
   ],
   "source": [
    "# xbow and xbow2 are equal, for example\n",
    "xbow[0],  xbow2[0]"
   ]
  },
  {
   "cell_type": "code",
   "execution_count": null,
   "id": "ffb09adc-4a89-42bd-8628-bcd1ecdba236",
   "metadata": {},
   "outputs": [],
   "source": []
  },
  {
   "cell_type": "code",
   "execution_count": 63,
   "id": "42f5f9d2-1dda-4d5a-8c23-a4464b54e84a",
   "metadata": {},
   "outputs": [
    {
     "data": {
      "text/plain": [
       "tensor([[1.0000, 0.0000, 0.0000, 0.0000, 0.0000, 0.0000, 0.0000, 0.0000],\n",
       "        [0.5000, 0.5000, 0.0000, 0.0000, 0.0000, 0.0000, 0.0000, 0.0000],\n",
       "        [0.3333, 0.3333, 0.3333, 0.0000, 0.0000, 0.0000, 0.0000, 0.0000],\n",
       "        [0.2500, 0.2500, 0.2500, 0.2500, 0.0000, 0.0000, 0.0000, 0.0000],\n",
       "        [0.2000, 0.2000, 0.2000, 0.2000, 0.2000, 0.0000, 0.0000, 0.0000],\n",
       "        [0.1667, 0.1667, 0.1667, 0.1667, 0.1667, 0.1667, 0.0000, 0.0000],\n",
       "        [0.1429, 0.1429, 0.1429, 0.1429, 0.1429, 0.1429, 0.1429, 0.0000],\n",
       "        [0.1250, 0.1250, 0.1250, 0.1250, 0.1250, 0.1250, 0.1250, 0.1250]])"
      ]
     },
     "execution_count": 63,
     "metadata": {},
     "output_type": "execute_result"
    }
   ],
   "source": [
    "#  v3: use Softmax\n",
    "tril = torch.tril(torch.ones(T,T))\n",
    "wei = torch.zeros((T,T))\n",
    "wei = wei.masked_fill(tril == 0, float('-inf')) # Wherever trill == 0, set weights to negative infinity\n",
    "wei = F.softmax(wei, dim=-1) # softmax is a normalisation operation (it exponentiates everything and divides by the sum).  \n",
    "wei"
   ]
  },
  {
   "cell_type": "code",
   "execution_count": null,
   "id": "e39acd48-9db2-41d1-a0b9-ce22f262a542",
   "metadata": {},
   "outputs": [],
   "source": []
  },
  {
   "cell_type": "code",
   "execution_count": 85,
   "id": "a875912a-558f-47dc-920c-41e0f6989c64",
   "metadata": {},
   "outputs": [
    {
     "data": {
      "text/plain": [
       "torch.Size([4, 8, 16])"
      ]
     },
     "execution_count": 85,
     "metadata": {},
     "output_type": "execute_result"
    }
   ],
   "source": [
    "#  v4: Self-Attention (a communication mechanism)\n",
    "# N.B. Every single token @ each section will emit 2 vectors, a query [what am I looking for] and a key [what do I contain].\n",
    "# We then get affinities between tokens in a sequence by doing a dot product between the key and the queries.\n",
    "# This becomes Wei.\n",
    "# If you're interested in the contents of the token, then this is where the value communicates this.\n",
    "\n",
    "B, T ,C = 4, 8, 32\n",
    "x = torch.randn(B, T, C)\n",
    "tril = torch.tril(torch.ones(T,T))\n",
    "\n",
    "# Old approach for the uniform weights\n",
    "# wei = torch.zeros((T,T))\n",
    "\n",
    "\n",
    "# let's see a single head perform self-attention\n",
    "head_size = 16\n",
    "key = nn.Linear(C, head_size, bias=False)\n",
    "query = nn.Linear(C, head_size, bias=False)\n",
    "value = nn.Linear(C, head_size, bias=False)\n",
    "\n",
    "# All of the tokens produce a key array and query array in parallel across the different batches and times (no communication yet).\n",
    "k = key(x) # B, T, head_size[16]\n",
    "q = query(x) # B, T, head_size[16]\n",
    "v = value(x)\n",
    "\n",
    "wei = k @ q.transpose(-2, -1) # (B, T, 16) @ (B, 16, T) -> (B, T, T)\n",
    "\n",
    "wei = wei.masked_fill(tril == 0, float('-inf')) # Wherever trill == 0, set weights to negative infinity\n",
    "wei = F.softmax(wei, dim=-1) # softmax is a normalisation operation (it exponentiates everything and divides by the sum).  \n",
    "# out = wei @ x\n",
    "out = wei @ v\n",
    "\n",
    "out.shape"
   ]
  },
  {
   "cell_type": "code",
   "execution_count": null,
   "id": "e43b00d6-7a75-4c33-8efd-666a10eb88c4",
   "metadata": {},
   "outputs": [],
   "source": []
  },
  {
   "cell_type": "code",
   "execution_count": null,
   "id": "7dc0a02f-2077-4737-bae7-fb25590e777c",
   "metadata": {},
   "outputs": [],
   "source": []
  },
  {
   "cell_type": "code",
   "execution_count": null,
   "id": "d3ae2b45-0ee4-49c0-ab60-10cc11cf3cfb",
   "metadata": {},
   "outputs": [],
   "source": []
  },
  {
   "cell_type": "code",
   "execution_count": null,
   "id": "e70c6ec8-7c6a-461f-9496-bd583fc822b2",
   "metadata": {},
   "outputs": [],
   "source": []
  },
  {
   "cell_type": "code",
   "execution_count": 32,
   "id": "3ed2804e-947b-4d57-b014-d35f969aa356",
   "metadata": {
    "collapsed": true,
    "jupyter": {
     "outputs_hidden": true
    }
   },
   "outputs": [
    {
     "data": {
      "text/plain": [
       "tensor([[ 0.1808, -0.0700],\n",
       "        [-0.3596, -0.9152],\n",
       "        [ 0.6258,  0.0255],\n",
       "        [ 0.9545,  0.0643],\n",
       "        [ 0.3612,  1.1679],\n",
       "        [-1.3499, -0.5102],\n",
       "        [ 0.2360, -0.2398],\n",
       "        [-0.9211,  1.5433]])"
      ]
     },
     "execution_count": 32,
     "metadata": {},
     "output_type": "execute_result"
    }
   ],
   "source": [
    "x[0]"
   ]
  },
  {
   "cell_type": "code",
   "execution_count": 33,
   "id": "7d4c7dc5-676e-4823-b02b-b4b9d2259d35",
   "metadata": {
    "collapsed": true,
    "jupyter": {
     "outputs_hidden": true
    },
    "scrolled": true
   },
   "outputs": [
    {
     "data": {
      "text/plain": [
       "tensor([[ 0.1808, -0.0700],\n",
       "        [-0.0894, -0.4926],\n",
       "        [ 0.1490, -0.3199],\n",
       "        [ 0.3504, -0.2238],\n",
       "        [ 0.3525,  0.0545],\n",
       "        [ 0.0688, -0.0396],\n",
       "        [ 0.0927, -0.0682],\n",
       "        [-0.0341,  0.1332]])"
      ]
     },
     "execution_count": 33,
     "metadata": {},
     "output_type": "execute_result"
    }
   ],
   "source": [
    "xbow[0] # cumulative average as you go down across time"
   ]
  },
  {
   "cell_type": "markdown",
   "id": "400e8a67-5c1a-4c44-b904-7c13f140b480",
   "metadata": {},
   "source": [
    "*Matrix Multiplication - Example*"
   ]
  },
  {
   "cell_type": "code",
   "execution_count": 38,
   "id": "41096d45-b47f-49bc-a354-730c1f08f426",
   "metadata": {
    "collapsed": true,
    "jupyter": {
     "outputs_hidden": true
    }
   },
   "outputs": [
    {
     "name": "stdout",
     "output_type": "stream",
     "text": [
      "a=\n",
      "tensor([[1.0000, 0.0000, 0.0000],\n",
      "        [0.5000, 0.5000, 0.0000],\n",
      "        [0.3333, 0.3333, 0.3333]])\n",
      "---\n",
      "b=\n",
      "tensor([[2., 7.],\n",
      "        [6., 4.],\n",
      "        [6., 5.]])\n",
      "---\n",
      "c=\n",
      "tensor([[2.0000, 7.0000],\n",
      "        [4.0000, 5.5000],\n",
      "        [4.6667, 5.3333]])\n"
     ]
    }
   ],
   "source": [
    "torch.manual_seed(42)\n",
    "a = torch.tril(torch.ones(3,3))\n",
    "a = a / torch.sum(a, 1, keepdim = True)\n",
    "b = torch.randint(0, 10, (3,2)).float()\n",
    "c = a @ b\n",
    "print ('a=')\n",
    "print (a)\n",
    "print ('---')\n",
    "print ('b=')\n",
    "print (b)\n",
    "print ('---')\n",
    "print ('c=')\n",
    "print (c)\n"
   ]
  },
  {
   "cell_type": "code",
   "execution_count": null,
   "id": "aeb1384d-5139-4732-80b7-2768f0efab4a",
   "metadata": {},
   "outputs": [],
   "source": []
  },
  {
   "cell_type": "code",
   "execution_count": null,
   "id": "f97dd8dd-2220-4c39-8ed7-91f56890df9d",
   "metadata": {},
   "outputs": [],
   "source": []
  }
 ],
 "metadata": {
  "kernelspec": {
   "display_name": "Python 3 (ipykernel)",
   "language": "python",
   "name": "python3"
  },
  "language_info": {
   "codemirror_mode": {
    "name": "ipython",
    "version": 3
   },
   "file_extension": ".py",
   "mimetype": "text/x-python",
   "name": "python",
   "nbconvert_exporter": "python",
   "pygments_lexer": "ipython3",
   "version": "3.11.4"
  }
 },
 "nbformat": 4,
 "nbformat_minor": 5
}
